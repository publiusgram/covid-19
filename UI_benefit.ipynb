{
 "cells": [
  {
   "cell_type": "code",
   "execution_count": null,
   "metadata": {},
   "outputs": [],
   "source": [
    "import sys\n",
    "\n",
    "import requests\n",
    "import re\n",
    "\n",
    "import matplotlib\n",
    "import matplotlib.pyplot as plt\n",
    "\n",
    "def get_data(arg):\n",
    "    s=arg #string type\n",
    "    url = 'https://fsapps.fiscal.treasury.gov/dts/files/'+s+'00.txt'\n",
    "\n",
    "    try:\n",
    "        info_ = requests.get(url)\n",
    "        info_.raise_for_status()\n",
    "    except requests.exceptions.RequestException as e:\n",
    "#        print(s)\n",
    "        return \"-\"\n",
    "    else:\n",
    "        content=info_.text\n",
    "        temp = re.findall(r'Unemployment Insurance Benefits\\s+[0-9,]+\\s+[0-9,]+\\s+[0-9,]+',content)\n",
    "        target = re.split('\\s+',temp[0].replace(',',''))\n",
    "        return target[3]"
   ]
  },
  {
   "cell_type": "code",
   "execution_count": null,
   "metadata": {},
   "outputs": [],
   "source": [
    "import datetime as dt\n",
    "import pandas as pd\n",
    "\n",
    "today = dt.datetime.now()\n",
    "end = today.strftime('%y%m%d') #string type\n",
    "\n",
    "start = dt.datetime.strptime('2020/01/01','%Y/%m/%d') #datetime type\n",
    "dd = start\n",
    "\n",
    "temp = []\n",
    "dd0 = start\n",
    "while dd0 < today:\n",
    "    temp = temp + [dd0] \n",
    "    dd0 = dd0 + dt.timedelta(days=1)\n",
    "\n",
    "benefit = pd.DataFrame(index=temp,columns=['UI Benefit'])\n",
    "benefit"
   ]
  },
  {
   "cell_type": "code",
   "execution_count": null,
   "metadata": {},
   "outputs": [],
   "source": [
    "while dd < today:\n",
    "\n",
    "    ss = dd.strftime('%y%m%d')\n",
    "    data = get_data(ss)\n",
    "    if data != '-':\n",
    "        ss = dd.strftime('%Y-%m-%d')\n",
    "        benefit.loc[dd]=int(data)\n",
    "    dd=dd + dt.timedelta(days=1)"
   ]
  },
  {
   "cell_type": "code",
   "execution_count": null,
   "metadata": {},
   "outputs": [],
   "source": [
    "benefit\n",
    "#.loc['2020-01-04']\n",
    "#benefit.drop('2020-01-01').plot()"
   ]
  },
  {
   "cell_type": "code",
   "execution_count": null,
   "metadata": {},
   "outputs": [],
   "source": [
    "archive = benefit\n",
    "n = len(benefit)\n",
    "while benefit.iloc[n-1,:].isnull().all():\n",
    "    print(benefit.iloc[n-1])\n",
    "    benefit.drop(benefit.index[[n-1]],inplace=True)\n",
    "    n = n-1\n",
    "\n",
    "benefit"
   ]
  },
  {
   "cell_type": "code",
   "execution_count": null,
   "metadata": {},
   "outputs": [],
   "source": [
    "benefit.resample('W').sum().plot()"
   ]
  },
  {
   "cell_type": "code",
   "execution_count": null,
   "metadata": {},
   "outputs": [],
   "source": [
    "benefit.plot()"
   ]
  },
  {
   "cell_type": "code",
   "execution_count": null,
   "metadata": {},
   "outputs": [],
   "source": [
    "window = 14\n",
    "benefit.fillna(method='ffill').rolling(window).mean().plot()"
   ]
  },
  {
   "cell_type": "code",
   "execution_count": null,
   "metadata": {},
   "outputs": [],
   "source": [
    "benefit.fillna(method='ffill').rolling(window).mean()"
   ]
  },
  {
   "cell_type": "code",
   "execution_count": null,
   "metadata": {},
   "outputs": [],
   "source": []
  }
 ],
 "metadata": {
  "kernelspec": {
   "display_name": "Python 3",
   "language": "python",
   "name": "python3"
  },
  "language_info": {
   "codemirror_mode": {
    "name": "ipython",
    "version": 3
   },
   "file_extension": ".py",
   "mimetype": "text/x-python",
   "name": "python",
   "nbconvert_exporter": "python",
   "pygments_lexer": "ipython3",
   "version": "3.7.3"
  }
 },
 "nbformat": 4,
 "nbformat_minor": 4
}
