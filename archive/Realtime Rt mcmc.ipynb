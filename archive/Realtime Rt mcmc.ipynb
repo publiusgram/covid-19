{
 "cells": [
  {
   "cell_type": "markdown",
   "metadata": {},
   "source": [
    "# Estimating COVID-19's $R_t$ in Real-Time with PYMC3\n",
    "\n",
    "Kevin Systrom - April 22\n",
    "\n",
    "Model originally built by [Thomas Vladeck](https://github.com/tvladeck) in Stan, parts inspired by the work over at https://epiforecasts.io/, lots of help from [Thomas Wiecki](https://twitter.com/twiecki). Thank you to everyone who helped.\n",
    "\n",
    "\n",
    "\n",
    "Nishiura model: https://github.com/contactmodel/COVID19-Japan-Reff\n",
    "\n",
    "Japan Data　　https://jag-japan.com/covid19map-readme/"
   ]
  },
  {
   "cell_type": "code",
   "execution_count": 1,
   "metadata": {},
   "outputs": [],
   "source": [
    "# For some reason Theano is unhappy when I run the GP, need to disable future warnings\n",
    "import warnings\n",
    "warnings.simplefilter(action='ignore', category=FutureWarning)\n",
    "\n",
    "import os\n",
    "import sys\n",
    "import requests\n",
    "import pymc3 as pm\n",
    "import pandas as pd\n",
    "import numpy as np\n",
    "import theano\n",
    "import theano.tensor as tt\n",
    "\n",
    "from matplotlib import pyplot as plt\n",
    "from matplotlib import dates as mdates\n",
    "from matplotlib import ticker\n",
    "\n",
    "from datetime import date\n",
    "from datetime import datetime\n",
    "\n",
    "from IPython.display import clear_output\n",
    "\n",
    "#%config InlineBackend.figure_format = 'retina'"
   ]
  },
  {
   "cell_type": "markdown",
   "metadata": {},
   "source": [
    "## Load State Information\n",
    "#### Load"
   ]
  },
  {
   "cell_type": "code",
   "execution_count": 2,
   "metadata": {},
   "outputs": [
    {
     "name": "stdout",
     "output_type": "stream",
     "text": [
      "data\n",
      "            STATE    POSITIVE       ONSET\n",
      "4867       Aichi  2020-04-08  2020-03-31\n",
      "3409       Aichi  2020-04-04  2020-03-27\n",
      "3408       Aichi  2020-04-04  2020-04-02\n",
      "3407       Aichi  2020-04-04  2020-03-31\n",
      "3406       Aichi  2020-04-04  2020-04-01\n",
      "...          ...         ...         ...\n",
      "7577   Yamanashi  2020-04-13  2020-04-06\n",
      "14390  Yamanashi  2020-05-01  2020-04-22\n",
      "2390   Yamanashi  2020-04-01  2020-03-25\n",
      "5332   Yamanashi  2020-04-09         NaN\n",
      "1146   Yamanashi  2020-03-24  2020-03-24\n",
      "\n",
      "[16355 rows x 3 columns]\n",
      "temp\n",
      "           STATE       DATE POSITIVE ONSET\n",
      "0         Aichi 2020-01-01        0     0\n",
      "1         Aichi 2020-01-02        0     0\n",
      "2         Aichi 2020-01-03        0     0\n",
      "3         Aichi 2020-01-04        0     0\n",
      "4         Aichi 2020-01-05        0     0\n",
      "...         ...        ...      ...   ...\n",
      "6849  Yamanashi 2020-05-24        0     0\n",
      "6850  Yamanashi 2020-05-25        0     0\n",
      "6851  Yamanashi 2020-05-26        0     0\n",
      "6852  Yamanashi 2020-05-27        0     0\n",
      "6853  Yamanashi 2020-05-28        0     0\n",
      "\n",
      "[6854 rows x 4 columns]\n"
     ]
    }
   ],
   "source": [
    "#url = 'https://covidtracking.com/api/v1/states/daily.csv'\n",
    "url = '/Users/---/japan.csv'\n",
    "url = '/Users/---/COVID19_japan_data.csv'\n",
    "data = pd.read_csv(url)\n",
    "\n",
    "data = data.sort_values('STATE')#.dropna(how='any')#.set_index('STATE')\n",
    "\n",
    "print('data\\n',data)\n",
    "\n",
    "state_list = data['STATE'].values.tolist()\n",
    "all_name = sorted(list(set(state_list)))\n",
    "\n",
    "#print(len(a))\n",
    "#print(a)\n",
    "\n",
    "dateidx = pd.date_range(start='2020-01-01',end='2020-05-28',freq='D')\n",
    "\n",
    "d1 = datetime.strptime('2020-05-28', '%Y-%m-%d')\n",
    "d0 = datetime.strptime('2020-02-01', '%Y-%m-%d')\n",
    "window_size = (d1 - d0).days\n",
    "\n",
    "#print(dateidx)\n",
    "\n",
    "N0 = len(all_name)\n",
    "N1 = dateidx.shape[0]\n",
    "\n",
    "temp = pd.DataFrame(index=[0],columns=['STATE','DATE','POSITIVE','ONSET'])\n",
    "\n",
    "for i in range(N0):\n",
    "    for j in range(N1):\n",
    "\n",
    "        temp.loc[i*N1+j] = [all_name[i],dateidx[j],0,0]\n",
    "        \n",
    "temp.DATE = pd.to_datetime(temp.DATE, format='%Y-%m-%d')\n",
    "        \n",
    "print('temp\\n',temp)    \n"
   ]
  },
  {
   "cell_type": "code",
   "execution_count": 3,
   "metadata": {},
   "outputs": [],
   "source": [
    "for i in range(data.shape[0]):\n",
    "    \n",
    "    indx_ = all_name.index(data.iat[i,0])\n",
    "    \n",
    "#positive\n",
    "    if len(str(data.iat[i,1])) == 10:\n",
    "        d1 = datetime.strptime(str(data.iat[i,1]), '%Y-%m-%d')\n",
    "        d0 = datetime.strptime('2020-01-01', '%Y-%m-%d')\n",
    "        indx_p = (d1 - d0).days\n",
    "\n",
    "        temp.iloc[indx_*N1+indx_p,2] += 1\n",
    "\n",
    "#onset\n",
    "    if len(str(data.iat[i,2])) == 10:\n",
    "\n",
    "        d1 = datetime.strptime(str(data.iat[i,2]), '%Y-%m-%d')\n",
    "        d0 = datetime.strptime('2020-01-01', '%Y-%m-%d')\n",
    "        indx_o = (d1 - d0).days\n",
    "        \n",
    "        temp.iloc[indx_*N1+indx_o,3] += 1\n"
   ]
  },
  {
   "cell_type": "code",
   "execution_count": 4,
   "metadata": {},
   "outputs": [
    {
     "name": "stdout",
     "output_type": "stream",
     "text": [
      "          STATE       DATE POSITIVE ONSET\n",
      "0         Aichi 2020-01-01        0     0\n",
      "1         Aichi 2020-01-02        0     0\n",
      "2         Aichi 2020-01-03        0     0\n",
      "3         Aichi 2020-01-04        0     0\n",
      "4         Aichi 2020-01-05        0     0\n",
      "...         ...        ...      ...   ...\n",
      "6849  Yamanashi 2020-05-24        0     0\n",
      "6850  Yamanashi 2020-05-25        0     0\n",
      "6851  Yamanashi 2020-05-26        0     0\n",
      "6852  Yamanashi 2020-05-27        0     0\n",
      "6853  Yamanashi 2020-05-28        0     0\n",
      "\n",
      "[6854 rows x 4 columns]\n"
     ]
    }
   ],
   "source": [
    "print(temp)\n"
   ]
  },
  {
   "cell_type": "markdown",
   "metadata": {},
   "source": [
    "#### Clean data with known modifications"
   ]
  },
  {
   "cell_type": "code",
   "execution_count": 5,
   "metadata": {},
   "outputs": [
    {
     "name": "stdout",
     "output_type": "stream",
     "text": [
      "                     POSITIVE ONSET\n",
      "STATE     DATE                     \n",
      "Aichi     2020-01-01        0     0\n",
      "          2020-01-02        0     0\n",
      "          2020-01-03        0     0\n",
      "          2020-01-04        0     0\n",
      "          2020-01-05        0     0\n",
      "...                       ...   ...\n",
      "Yamanashi 2020-05-24        0     0\n",
      "          2020-05-25        0     0\n",
      "          2020-05-26        0     0\n",
      "          2020-05-27        0     0\n",
      "          2020-05-28        0     0\n",
      "\n",
      "[6854 rows x 2 columns]\n"
     ]
    }
   ],
   "source": [
    "states000 = temp.set_index(['STATE','DATE'])\n",
    "print(states000)"
   ]
  },
  {
   "cell_type": "markdown",
   "metadata": {},
   "source": [
    "#### Integrity Check"
   ]
  },
  {
   "cell_type": "code",
   "execution_count": null,
   "metadata": {},
   "outputs": [],
   "source": []
  },
  {
   "cell_type": "code",
   "execution_count": 6,
   "metadata": {},
   "outputs": [
    {
     "name": "stdout",
     "output_type": "stream",
     "text": [
      "                     POSITIVE\n",
      "STATE     DATE               \n",
      "Aichi     2020-01-01        0\n",
      "          2020-01-02        0\n",
      "          2020-01-03        0\n",
      "          2020-01-04        0\n",
      "          2020-01-05        0\n",
      "...                       ...\n",
      "Yamanashi 2020-05-24       61\n",
      "          2020-05-25       61\n",
      "          2020-05-26       61\n",
      "          2020-05-27       61\n",
      "          2020-05-28       61\n",
      "\n",
      "[6854 rows x 1 columns]\n"
     ]
    }
   ],
   "source": [
    "def PREPARE():\n",
    "    states = states000['POSITIVE']\n",
    "    states = pd.DataFrame(states)\n",
    "    states.columns=['POSITIVE']\n",
    "#pd.set_option('display.max_rows', 7000)\n",
    "\n",
    "    for state in all_name:\n",
    "        \n",
    "        temp2 = states.loc[pd.IndexSlice[state,:],:].cumsum()\n",
    "        temp2 = temp2.sum(level='DATE')\n",
    "        temp2['STATE'] = state \n",
    "        temp2 = temp2.set_index('STATE',append=True)\n",
    "        temp2 = temp2.swaplevel(0,1)\n",
    "        \n",
    "#        temp2 = pd.DataFrame(states.loc[[state,],:].cumsum())\n",
    "#        print(temp2)\n",
    "        states.drop(index=state,level='STATE',inplace=True)\n",
    "        states = pd.concat([states,temp2],axis=0)\n",
    "    \n",
    "    return states\n",
    "\n",
    "states = PREPARE()\n",
    "print(states)"
   ]
  },
  {
   "cell_type": "code",
   "execution_count": 7,
   "metadata": {},
   "outputs": [
    {
     "name": "stdout",
     "output_type": "stream",
     "text": [
      "           POSITIVE\n",
      "DATE               \n",
      "2020-01-01        0\n",
      "2020-01-02        0\n",
      "2020-01-03        0\n",
      "2020-01-04        0\n",
      "2020-01-05        0\n",
      "...             ...\n",
      "2020-05-24     5116\n",
      "2020-05-25     5124\n",
      "2020-05-26     5134\n",
      "2020-05-27     5145\n",
      "2020-05-28     5160\n",
      "\n",
      "[149 rows x 1 columns]\n"
     ]
    }
   ],
   "source": [
    "print(states.xs('Tokyo'))"
   ]
  },
  {
   "cell_type": "code",
   "execution_count": 8,
   "metadata": {},
   "outputs": [
    {
     "name": "stdout",
     "output_type": "stream",
     "text": [
      "Not all states have updated\n"
     ]
    },
    {
     "data": {
      "text/plain": [
       "STATE\n",
       "Aichi       2020-05-28\n",
       "Akita       2020-05-28\n",
       "Aomori      2020-05-28\n",
       "Chiba       2020-05-28\n",
       "Ehime       2020-05-28\n",
       "Fukui       2020-05-28\n",
       "Fukuoka     2020-05-28\n",
       "Fukushima   2020-05-28\n",
       "Gifu        2020-05-28\n",
       "Gunma       2020-05-28\n",
       "Hiroshima   2020-05-28\n",
       "Hokkaido    2020-05-28\n",
       "Hyogo       2020-05-28\n",
       "Ibaraki     2020-05-28\n",
       "Ishikawa    2020-05-28\n",
       "Kagawa      2020-05-28\n",
       "Kagoshima   2020-05-28\n",
       "Kanagawa    2020-05-28\n",
       "Kochi       2020-05-28\n",
       "Kumamoto    2020-05-28\n",
       "Kyoto       2020-05-28\n",
       "Mie         2020-05-28\n",
       "Miyagi      2020-05-28\n",
       "Miyazaki    2020-05-28\n",
       "Nagano      2020-05-28\n",
       "Nagasaki    2020-05-28\n",
       "Nara        2020-05-28\n",
       "Niigata     2020-05-28\n",
       "Oita        2020-05-28\n",
       "Okayama     2020-05-28\n",
       "Okinawa     2020-05-28\n",
       "Osaka       2020-05-28\n",
       "Saga        2020-05-28\n",
       "Saitama     2020-05-28\n",
       "Shiga       2020-05-28\n",
       "Shimane     2020-05-28\n",
       "Shizuoka    2020-05-28\n",
       "Tochigi     2020-05-28\n",
       "Tokushima   2020-05-28\n",
       "Tokyo       2020-05-28\n",
       "Tottori     2020-05-28\n",
       "Toyama      2020-05-28\n",
       "Wakayama    2020-05-28\n",
       "Yamagata    2020-05-28\n",
       "Yamaguchi   2020-05-28\n",
       "Yamanashi   2020-05-28\n",
       "Name: DATE, dtype: datetime64[ns]"
      ]
     },
     "metadata": {},
     "output_type": "display_data"
    }
   ],
   "source": [
    "# Make sure that all the states have current data\n",
    "today = datetime.combine(date.today(), datetime.min.time())\n",
    "last_updated = states.reset_index('DATE').groupby('STATE')['DATE'].max()\n",
    "is_current = last_updated < today\n",
    "\n",
    "try:\n",
    "    assert is_current.sum() == 0\n",
    "except AssertionError:\n",
    "    print(\"Not all states have updated\")\n",
    "    display(last_updated[is_current])\n",
    "\n",
    "# Ensure all case diffs are greater than zero\n",
    "\n",
    "for state, grp in states.groupby('STATE'):\n",
    "    new_cases = grp.POSITIVE.diff().dropna()\n",
    "    is_positive = new_cases.ge(0)\n",
    "    \n",
    "    try:\n",
    "        assert is_positive.all()\n",
    "    except AssertionError:\n",
    "        print(f\"Warning: {state} has date with negative case counts\")\n",
    "        display(new_cases[~is_positive])\n",
    "\n",
    "        new_cases[~is_positive]=0\n",
    "        new_cases=new_cases.cumsum()\n",
    "        new_cases=pd.DataFrame(new_cases,columns=['POSITIVE'])\n",
    "        \n",
    "        states = states.drop(index=[state],axis=0)\n",
    "        states = pd.concat([states, new_cases])\n",
    "        \n",
    "# Let's make sure that states have added cases\n",
    "#idx = pd.IndexSlice\n",
    "#assert not states.loc[idx[:,'2020-03-19':'2020-05-07'], 'POSITIVE'].groupby('STATE').diff().dropna().eq(0).any()"
   ]
  },
  {
   "cell_type": "code",
   "execution_count": null,
   "metadata": {
    "scrolled": true
   },
   "outputs": [],
   "source": []
  },
  {
   "cell_type": "markdown",
   "metadata": {},
   "source": [
    "## Load Patient Information\n",
    "#### Download\n",
    "~100mb download (be ... patient!)"
   ]
  },
  {
   "cell_type": "code",
   "execution_count": null,
   "metadata": {},
   "outputs": [],
   "source": []
  },
  {
   "cell_type": "code",
   "execution_count": null,
   "metadata": {},
   "outputs": [],
   "source": []
  },
  {
   "cell_type": "markdown",
   "metadata": {},
   "source": [
    "#### Parse & Clean Patient Info"
   ]
  },
  {
   "cell_type": "code",
   "execution_count": 9,
   "metadata": {},
   "outputs": [
    {
     "name": "stdout",
     "output_type": "stream",
     "text": [
      "*\n",
      "          POSITIVE       ONSET\n",
      "4867   2020-04-08  2020-03-31\n",
      "3409   2020-04-04  2020-03-27\n",
      "3408   2020-04-04  2020-04-02\n",
      "3407   2020-04-04  2020-03-31\n",
      "3406   2020-04-04  2020-04-01\n",
      "...           ...         ...\n",
      "7196   2020-04-12  2020-04-12\n",
      "7577   2020-04-13  2020-04-06\n",
      "14390  2020-05-01  2020-04-22\n",
      "2390   2020-04-01  2020-03-25\n",
      "1146   2020-03-24  2020-03-24\n",
      "\n",
      "[8707 rows x 2 columns]\n",
      "**\n",
      "         Confirmed       Onset\n",
      "4867   2020-04-08  2020-03-31\n",
      "3409   2020-04-04  2020-03-27\n",
      "3408   2020-04-04  2020-04-02\n",
      "3407   2020-04-04  2020-03-31\n",
      "3406   2020-04-04  2020-04-01\n",
      "...           ...         ...\n",
      "7196   2020-04-12  2020-04-12\n",
      "7577   2020-04-13  2020-04-06\n",
      "14390  2020-05-01  2020-04-22\n",
      "2390   2020-04-01  2020-03-25\n",
      "1146   2020-03-24  2020-03-24\n",
      "\n",
      "[8707 rows x 2 columns]\n",
      "***\n",
      "         Confirmed       Onset\n",
      "4867   2020-04-08  2020-03-31\n",
      "3409   2020-04-04  2020-03-27\n",
      "3408   2020-04-04  2020-04-02\n",
      "3407   2020-04-04  2020-03-31\n",
      "3406   2020-04-04  2020-04-01\n",
      "...           ...         ...\n",
      "7196   2020-04-12  2020-04-12\n",
      "7577   2020-04-13  2020-04-06\n",
      "14390  2020-05-01  2020-04-22\n",
      "2390   2020-04-01  2020-03-25\n",
      "1146   2020-03-24  2020-03-24\n",
      "\n",
      "[8707 rows x 2 columns]\n",
      "        Confirmed       Onset\n",
      "4867   2020-04-08  2020-03-31\n",
      "3409   2020-04-04  2020-03-27\n",
      "3408   2020-04-04  2020-04-02\n",
      "3407   2020-04-04  2020-03-31\n",
      "3406   2020-04-04  2020-04-01\n",
      "...           ...         ...\n",
      "7196   2020-04-12  2020-04-12\n",
      "7577   2020-04-13  2020-04-06\n",
      "14390  2020-05-01  2020-04-22\n",
      "2390   2020-04-01  2020-03-25\n",
      "1146   2020-03-24  2020-03-24\n",
      "\n",
      "[8707 rows x 2 columns]\n"
     ]
    }
   ],
   "source": [
    "patients = data.drop('STATE',axis=1).dropna(how='any', axis=0)\n",
    "print(\"*\\n\",patients)\n",
    "patients.columns = ['Confirmed','Onset']\n",
    "print(\"**\\n\",patients)\n",
    "# There's an errant reversed date\n",
    "#patients = patients.replace('01.31.2020', '31.01.2020')\n",
    "\n",
    "# Only keep if both values are present\n",
    "patients = patients.dropna()\n",
    "\n",
    "#patients.Confirmed = pd.to_datetime(\n",
    "#    patients.Confirmed, format='%m/%d/%Y')\n",
    "#patients.Onset = pd.to_datetime(\n",
    "#    patients.Onset, format='%m/%d/%Y')\n",
    "\n",
    "print(\"***\\n\",patients)\n",
    "# Must have strings that look like individual dates\n",
    "# \"2020.03.09\" is 10 chars long\n",
    "is_ten_char = lambda x: x.str.len().eq(10)\n",
    "patients = patients[is_ten_char(patients.Confirmed) & \n",
    "                    is_ten_char(patients.Onset)]\n",
    "print(patients)\n",
    "\n",
    "# Convert both to datetimes\n",
    "patients.Confirmed = pd.to_datetime(\n",
    "    patients.Confirmed, format='%Y-%m-%d')\n",
    "patients.Onset = pd.to_datetime(\n",
    "    patients.Onset, format='%Y-%m-%d')\n",
    "\n",
    "# Only keep records where confirmed > onset\n",
    "patients = patients[patients.Confirmed >= patients.Onset]"
   ]
  },
  {
   "cell_type": "code",
   "execution_count": 10,
   "metadata": {},
   "outputs": [],
   "source": [
    "#print(patients)"
   ]
  },
  {
   "cell_type": "markdown",
   "metadata": {},
   "source": [
    "#### Show Relationship between Onset of Symptoms and Confirmation"
   ]
  },
  {
   "cell_type": "code",
   "execution_count": 11,
   "metadata": {},
   "outputs": [
    {
     "data": {
      "image/png": "[encoded data removed]",
      "text/plain": [
       "<Figure size 432x432 with 1 Axes>"
      ]
     },
     "metadata": {
      "needs_background": "light"
     },
     "output_type": "display_data"
    }
   ],
   "source": [
    "ax = patients.plot.scatter(\n",
    "    title='Onset vs. Confirmed Dates - COVID19',\n",
    "    x='Onset',\n",
    "    y='Confirmed',\n",
    "    alpha=.1,\n",
    "    lw=0,\n",
    "    s=10,\n",
    "    figsize=(6,6))\n",
    "\n",
    "formatter = mdates.DateFormatter('%m/%d')\n",
    "locator = mdates.WeekdayLocator(interval=2)\n",
    "\n",
    "for axis in [ax.xaxis, ax.yaxis]:\n",
    "    axis.set_major_formatter(formatter)\n",
    "    axis.set_major_locator(locator)"
   ]
  },
  {
   "cell_type": "markdown",
   "metadata": {},
   "source": [
    "#### Calculate the Probability Distribution of Delay"
   ]
  },
  {
   "cell_type": "code",
   "execution_count": 12,
   "metadata": {},
   "outputs": [
    {
     "data": {
      "image/png": "[encoded data removed]",
      "text/plain": [
       "<Figure size 648x216 with 2 Axes>"
      ]
     },
     "metadata": {
      "needs_background": "light"
     },
     "output_type": "display_data"
    }
   ],
   "source": [
    "# Calculate the delta in days between onset and confirmation\n",
    "delay = (patients.Confirmed - patients.Onset).dt.days\n",
    "\n",
    "# Convert samples to an empirical distribution\n",
    "p_delay = delay.value_counts().sort_index()\n",
    "new_range = np.arange(0, p_delay.index.max()+1)\n",
    "p_delay = p_delay.reindex(new_range, fill_value=0)\n",
    "p_delay /= p_delay.sum()\n",
    "\n",
    "# Show our work\n",
    "fig, axes = plt.subplots(ncols=2, figsize=(9,3))\n",
    "p_delay.plot(title='P(Delay)', ax=axes[0])\n",
    "p_delay.cumsum().plot(title='P(Delay <= x)', ax=axes[1])\n",
    "for ax in axes:\n",
    "    ax.set_xlabel('days')\n"
   ]
  },
  {
   "cell_type": "code",
   "execution_count": 13,
   "metadata": {},
   "outputs": [
    {
     "name": "stdout",
     "output_type": "stream",
     "text": [
      "           POSITIVE\n",
      "DATE               \n",
      "2020-01-01        0\n",
      "2020-01-02        0\n",
      "2020-01-03        0\n",
      "2020-01-04        0\n",
      "2020-01-05        0\n",
      "...             ...\n",
      "2020-05-24     5116\n",
      "2020-05-25     5124\n",
      "2020-05-26     5134\n",
      "2020-05-27     5145\n",
      "2020-05-28     5160\n",
      "\n",
      "[149 rows x 1 columns]\n"
     ]
    }
   ],
   "source": [
    "#import openpyxl\n",
    "#p_delay.to_excel('/Users/jetto2013/py/p_delay.xlsx')\n",
    "print(states.xs('Tokyo'))"
   ]
  },
  {
   "cell_type": "markdown",
   "metadata": {},
   "source": [
    "## A Single State\n",
    "\n",
    "#### Select State Data"
   ]
  },
  {
   "cell_type": "code",
   "execution_count": 14,
   "metadata": {},
   "outputs": [
    {
     "data": {
      "text/plain": [
       "DATE\n",
       "2020-05-24    14\n",
       "2020-05-25     8\n",
       "2020-05-26    10\n",
       "2020-05-27    11\n",
       "2020-05-28    15\n",
       "Name: POSITIVE, dtype: object"
      ]
     },
     "execution_count": 14,
     "metadata": {},
     "output_type": "execute_result"
    }
   ],
   "source": [
    "state = 'Tokyo'\n",
    "confirmed = states.xs(state).POSITIVE.diff().dropna()\n",
    "confirmed.tail()"
   ]
  },
  {
   "cell_type": "markdown",
   "metadata": {},
   "source": [
    "### Translate Confirmation Dates to Onset Dates\n",
    "\n",
    "Our goal is to translate positive test counts to the dates where they likely occured. Since we have the distribution, we can distribute case counts back in time according to that distribution. To accomplish this, we reverse the case time series, and convolve it using the distribution of delay from onset to confirmation. Then we reverse the series again to obtain the onset curve. Note that this means the data will be 'right censored' which means there are onset cases that have yet to be reported so it looks as if the count has gone down."
   ]
  },
  {
   "cell_type": "code",
   "execution_count": 15,
   "metadata": {},
   "outputs": [],
   "source": [
    "def confirmed_to_onset(confirmed, p_delay):\n",
    "\n",
    "    assert not confirmed.isna().any()\n",
    "    \n",
    "    # Reverse cases so that we convolve into the past\n",
    "    convolved = np.convolve(confirmed[::-1].values, p_delay)\n",
    "\n",
    "    # Calculate the new date range\n",
    "    dr = pd.date_range(end=confirmed.index[-1],\n",
    "                       periods=len(convolved))\n",
    "\n",
    "    # Flip the values and assign the date range\n",
    "    onset = pd.Series(np.flip(convolved), index=dr)\n",
    "    \n",
    "    return onset\n",
    "\n",
    "\n",
    "onset = confirmed_to_onset(confirmed, p_delay)"
   ]
  },
  {
   "cell_type": "markdown",
   "metadata": {},
   "source": [
    "### Adjust for Right-Censoring\n",
    "\n",
    "Since we distributed observed cases into the past to recreate the onset curve, we now have a right-censored time series. We can correct for that by asking what % of people have a delay less than or equal to the time between the day in question and the current day.\n",
    "\n",
    "For example, 5 days ago, there might have been 100 cases onset. Over the course of the next 5 days some portion of those cases will be reported. This portion is equal to the cumulative distribution function of our delay distribution. If we know that portion is say, 60%, then our current count of onset on that day represents 60% of the total. This implies that the total is 166% higher. We apply this correction to get an idea of what actual onset cases are likely, thus removing the right censoring."
   ]
  },
  {
   "cell_type": "code",
   "execution_count": 16,
   "metadata": {},
   "outputs": [],
   "source": [
    "def adjust_onset_for_right_censorship(onset, p_delay):\n",
    "    cumulative_p_delay = p_delay.cumsum()\n",
    "    \n",
    "    # Calculate the additional ones needed so shapes match\n",
    "    ones_needed = len(onset) - len(cumulative_p_delay)\n",
    "    padding_shape = (0, ones_needed)\n",
    "    \n",
    "    # Add ones and flip back\n",
    "    cumulative_p_delay = np.pad(\n",
    "        cumulative_p_delay,\n",
    "        padding_shape,\n",
    "        constant_values=1)\n",
    "\n",
    "    cumulative_p_delay = np.flip(cumulative_p_delay)\n",
    "    \n",
    "    # Adjusts observed onset values to expected terminal onset values\n",
    "    adjusted = onset / cumulative_p_delay\n",
    "    \n",
    "    return adjusted, cumulative_p_delay\n",
    "\n",
    "\n",
    "adjusted, cumulative_p_delay = adjust_onset_for_right_censorship(onset, p_delay)\n",
    "\n",
    "#import openpyxl\n",
    "#temp = pd.concat([confirmed,onset,adjusted],axis=1)\n",
    "#temp.to_excel('/Users/jetto2013/py/TOKYO_plus_Adjusted_DATA.xlsx')"
   ]
  },
  {
   "cell_type": "markdown",
   "metadata": {},
   "source": [
    "Take a look at all three series: confirmed, onset and onset adjusted for right censoring."
   ]
  },
  {
   "cell_type": "code",
   "execution_count": 17,
   "metadata": {},
   "outputs": [
    {
     "data": {
      "image/png": "[encoded data removed]",
      "text/plain": [
       "<Figure size 360x216 with 1 Axes>"
      ]
     },
     "metadata": {
      "needs_background": "light"
     },
     "output_type": "display_data"
    }
   ],
   "source": [
    "fig, ax = plt.subplots(figsize=(5,3))\n",
    "\n",
    "confirmed.plot(\n",
    "    ax=ax,\n",
    "    label='Confirmed',\n",
    "    title=state,\n",
    "    c='k',\n",
    "    alpha=.25,\n",
    "    lw=1)\n",
    "\n",
    "onset.plot(\n",
    "    ax=ax,\n",
    "    label='Onset',\n",
    "    c='k',\n",
    "    lw=1)\n",
    "\n",
    "adjusted.plot(\n",
    "    ax=ax,\n",
    "    label='Adjusted Onset',\n",
    "    c='k',\n",
    "    linestyle='--',\n",
    "    lw=1)\n",
    "\n",
    "ax.legend();"
   ]
  },
  {
   "cell_type": "markdown",
   "metadata": {},
   "source": [
    "Let's have the model run on days where we have enough data ~last 50 or so"
   ]
  },
  {
   "cell_type": "markdown",
   "metadata": {},
   "source": [
    "### Sample the Posterior with PyMC3"
   ]
  },
  {
   "cell_type": "markdown",
   "metadata": {},
   "source": [
    "We assume a poisson likelihood function and feed it what we believe is the onset curve based on reported data. We model this onset curve based on the same math in the previous notebook:\n",
    "\n",
    "$$ I^\\prime = Ie^{\\gamma(R_t-1)} $$\n",
    "\n",
    "We define $\\theta = \\gamma(R_t-1)$ and model $ I^\\prime = Ie^{\\theta} $ where $\\theta$ observes a random walk. We let $\\gamma$ vary independently based on known parameters for the serial interval. Therefore, we can recover $R_t$ easily by $R_t = \\frac{\\theta}{\\gamma}+1$\n",
    "\n",
    "The only tricky part is understanding that we're feeding in _onset_ cases to the likelihood. So $\\mu$ of the poisson is the positive, non-zero, expected onset cases we think we'd see today.\n",
    "\n",
    "We calculate this by figuring out how many cases we'd expect there to be yesterday total when adjusted for bias and plugging it into the first equation above. We then have to re-bias this number back down to get the expected amount of onset cases observed that day."
   ]
  },
  {
   "cell_type": "code",
   "execution_count": 18,
   "metadata": {},
   "outputs": [],
   "source": [
    "states = PREPARE()\n",
    "\n",
    "def CHOICE(STATELIST,original=states):\n",
    "\n",
    "    if STATELIST == 'Syutoken':\n",
    "        states = SYUTOKEN(original)\n",
    "    else:\n",
    "        states = original.loc[pd.IndexSlice[STATELIST,:],:]\n",
    "        states = states.sum(level='DATE')\n",
    "        states['STATE'] = STATELIST \n",
    "        states = states.set_index('STATE',append=True)\n",
    "        states = states.swaplevel(0,1)\n",
    "    \n",
    "    return states\n",
    "\n",
    "def SYUTOKEN(states):\n",
    "    \n",
    "    Tokyo = states.loc[pd.IndexSlice['Tokyo',:],:]\n",
    "    Kanagawa = states.loc[pd.IndexSlice['Kanagawa',:],:]\n",
    "    Saitama = states.loc[pd.IndexSlice['Saitama',:],:]\n",
    "    Chiba = states.loc[pd.IndexSlice['Chiba',:],:]\n",
    "\n",
    "    states = pd.concat([Tokyo,Kanagawa,Saitama,Chiba]).sum(level='DATE')\n",
    "    states['STATE'] = 'Syutoken'\n",
    "    states = states.set_index('STATE',append=True)\n",
    "    states = states.swaplevel(0,1)\n",
    "    \n",
    "    return states\n",
    "\n",
    "#states = CHOICE('Tokyo')\n",
    "\n",
    "#print(states)"
   ]
  },
  {
   "cell_type": "code",
   "execution_count": 19,
   "metadata": {},
   "outputs": [],
   "source": [
    "d1 = datetime.strptime('2020-05-28', '%Y-%m-%d')\n",
    "d0 = datetime.strptime('2020-02-01', '%Y-%m-%d')\n",
    "window_size = (d1 - d0).days\n",
    "\n",
    "class MCMCModel(object):\n",
    "    \n",
    "    def __init__(self, region, onset, cumulative_p_delay, window=window_size):\n",
    "        \n",
    "        # Just for identification purposes\n",
    "        self.region = region\n",
    "        \n",
    "        # For the model, we'll only look at the last N\n",
    "        self.onset = onset.iloc[-window:]\n",
    "        self.cumulative_p_delay = cumulative_p_delay[-window:]\n",
    "        \n",
    "        # Where we store the results\n",
    "        self.trace = None\n",
    "        self.trace_index = self.onset.index[1:]\n",
    "\n",
    "    def run(self, chains=2, tune=5000, draws=1000, target_accept=.95):\n",
    "\n",
    "        with pm.Model() as model:\n",
    "\n",
    "            # Let the serial interval be a random variable\n",
    "            # Ref: Hiroshi Nishiuraa, Natalie M. Lintona, Andrei R. Akhmetzhanov\n",
    "            ###### 'Serial interval of novel coronavirus (COVID-19) infections'\n",
    "            ######  International Journal of Infectious Diseases 93 (2020) 284–286\n",
    "            \n",
    "            ######  serial_interval = pm.Lognormal('serial_interval', mu=4.7, sigma=2.9)\n",
    "            serial_interval = pm.Gamma('serial_interval', alpha=6, beta=1.5)\n",
    "            gamma = 1.0 / serial_interval\n",
    "\n",
    "            # Random walk magnitude\n",
    "            step_size = pm.HalfNormal('step_size', sigma=.03)\n",
    "\n",
    "            # Theta random walk\n",
    "            theta_raw_init = pm.Normal('theta_raw_init', mu=0.1, sigma=0.1)\n",
    "            theta_raw_steps = pm.Normal('theta_raw_steps', shape=len(self.onset)-2) * step_size\n",
    "            theta_raw = tt.concatenate([[theta_raw_init], theta_raw_steps])\n",
    "            theta = pm.Deterministic('theta', theta_raw.cumsum())\n",
    "\n",
    "            #calculate r_t            \n",
    "            r_t = pm.Deterministic('r_t', theta/gamma + 1)\n",
    "   \n",
    "            inferred_yesterday = self.onset.values[:-1] / self.cumulative_p_delay[:-1]\n",
    "            \n",
    "            expected_today = inferred_yesterday * self.cumulative_p_delay[1:] * pm.math.exp(theta)\n",
    "\n",
    "            # Ensure cases stay above zero for poisson\n",
    "            mu = pm.math.maximum(.1, expected_today)\n",
    "            observed = self.onset.round().values[1:]\n",
    "            cases = pm.Poisson('cases', mu=mu, observed=observed)\n",
    "\n",
    "            self.trace = pm.sample(\n",
    "                chains=chains,\n",
    "                tune=tune,\n",
    "                draws=draws,\n",
    "                target_accept=target_accept)\n",
    "            \n",
    "            return self\n",
    "    \n",
    "    def run_gp(self):\n",
    "        with pm.Model() as model:\n",
    "            gp_shape = len(self.onset) - 1\n",
    "\n",
    "            length_scale = pm.Gamma(\"length_scale\", alpha=3, beta=.4)\n",
    "\n",
    "            eta = .05\n",
    "            cov_func = eta**2 * pm.gp.cov.ExpQuad(1, length_scale)\n",
    "\n",
    "            gp = pm.gp.Latent(mean_func=pm.gp.mean.Constant(c=0), \n",
    "                              cov_func=cov_func)\n",
    "\n",
    "            # Place a GP prior over the function f.\n",
    "            theta = gp.prior(\"theta\", X=np.arange(gp_shape)[:, None])\n",
    "\n",
    "            # Let the serial interval be a random variable and calculate r_t\n",
    "            serial_interval = pm.Gamma('serial_interval', alpha=6, beta=1.5)\n",
    "            gamma = 1.0 / serial_interval\n",
    "            r_t = pm.Deterministic('r_t', theta / gamma + 1)\n",
    "\n",
    "            inferred_yesterday = self.onset.values[:-1] / self.cumulative_p_delay[:-1]\n",
    "            expected_today = inferred_yesterday * self.cumulative_p_delay[1:] * pm.math.exp(theta)\n",
    "\n",
    "            # Ensure cases stay above zero for poisson\n",
    "            mu = pm.math.maximum(.1, expected_today)\n",
    "            observed = self.onset.round().values[1:]\n",
    "            cases = pm.Poisson('cases', mu=mu, observed=observed)\n",
    "\n",
    "            self.trace = pm.sample(chains=1, tune=1000, draws=1000, target_accept=.8)\n",
    "        return self\n"
   ]
  },
  {
   "cell_type": "code",
   "execution_count": null,
   "metadata": {},
   "outputs": [],
   "source": []
  },
  {
   "cell_type": "code",
   "execution_count": 20,
   "metadata": {},
   "outputs": [
    {
     "name": "stdout",
     "output_type": "stream",
     "text": [
      "117\n"
     ]
    }
   ],
   "source": [
    "print(window_size)"
   ]
  },
  {
   "cell_type": "code",
   "execution_count": 21,
   "metadata": {},
   "outputs": [],
   "source": [
    "#theta.tag.test_value"
   ]
  },
  {
   "cell_type": "markdown",
   "metadata": {},
   "source": [
    "### Run Pymc3 Model"
   ]
  },
  {
   "cell_type": "code",
   "execution_count": 22,
   "metadata": {},
   "outputs": [],
   "source": [
    "def df_from_model(model):\n",
    "    \n",
    "    r_t = model.trace['r_t']\n",
    "    mean = np.mean(r_t, axis=0)\n",
    "    median = np.median(r_t, axis=0)\n",
    "    hpd_90 = pm.stats.hpd(r_t, credible_interval=.9)\n",
    "    hpd_50 = pm.stats.hpd(r_t, credible_interval=.5)\n",
    "    \n",
    "    idx = pd.MultiIndex.from_product([\n",
    "            [model.region],\n",
    "            model.trace_index\n",
    "        ], names=['region', 'date'])\n",
    "        \n",
    "    df = pd.DataFrame(data=np.c_[mean, median, hpd_90, hpd_50], index=idx,\n",
    "                 columns=['mean', 'median', 'lower_90', 'upper_90', 'lower_50','upper_50'])\n",
    "    return df\n",
    "\n",
    "def create_and_run_model(name, state):\n",
    "    confirmed = state.POSITIVE.diff().dropna()\n",
    "    onset = confirmed_to_onset(confirmed, p_delay)\n",
    "    adjusted, cumulative_p_delay = adjust_onset_for_right_censorship(onset, p_delay)\n",
    "    return MCMCModel(name, adjusted, cumulative_p_delay).run()\n"
   ]
  },
  {
   "cell_type": "code",
   "execution_count": 23,
   "metadata": {},
   "outputs": [
    {
     "name": "stdout",
     "output_type": "stream",
     "text": [
      "                    POSITIVE\n",
      "STATE   DATE                \n",
      "Fukuoka 2020-01-01         0\n",
      "        2020-01-02         0\n",
      "        2020-01-03         0\n",
      "        2020-01-04         0\n",
      "        2020-01-05         0\n",
      "...                      ...\n",
      "        2020-05-24       664\n",
      "        2020-05-25       669\n",
      "        2020-05-26       671\n",
      "        2020-05-27       679\n",
      "        2020-05-28       700\n",
      "\n",
      "[149 rows x 1 columns]\n"
     ]
    },
    {
     "name": "stderr",
     "output_type": "stream",
     "text": [
      "Auto-assigning NUTS sampler...\n",
      "Initializing NUTS using jitter+adapt_diag...\n",
      "Multiprocess sampling (2 chains in 2 jobs)\n",
      "NUTS: [theta_raw_steps, theta_raw_init, step_size, serial_interval]\n",
      "Sampling 2 chains, 0 divergences: 100%|██████████| 12000/12000 [03:06<00:00, 64.46draws/s] \n"
     ]
    }
   ],
   "source": [
    "models = {}\n",
    "\n",
    "def COREPROCESS(STATELIST):\n",
    "\n",
    "    if STATELIST == ['All']:\n",
    "        STATELIST = all_name\n",
    "    \n",
    "    for s in STATELIST:\n",
    "        states = CHOICE(s)\n",
    "        print(states)\n",
    "        for state, grp in states.groupby('STATE'):    \n",
    "            if state in models:\n",
    "                print(f'Skipping {state}, already in cache')\n",
    "                continue\n",
    "    \n",
    "            models[state] = create_and_run_model(state,grp.droplevel(0))\n",
    "\n",
    "    return models\n",
    "\n",
    "models = COREPROCESS(['Fukuoka'])"
   ]
  },
  {
   "cell_type": "markdown",
   "metadata": {},
   "source": [
    "### Handle Divergences"
   ]
  },
  {
   "cell_type": "code",
   "execution_count": 24,
   "metadata": {},
   "outputs": [
    {
     "name": "stdout",
     "output_type": "stream",
     "text": [
      "Diverging states:\n"
     ]
    },
    {
     "data": {
      "text/plain": [
       "Series([], dtype: int64)"
      ]
     },
     "metadata": {},
     "output_type": "display_data"
    }
   ],
   "source": [
    "# Check to see if there were divergences\n",
    "n_diverging = lambda x: x.trace['diverging'].nonzero()[0].size\n",
    "divergences = pd.Series([n_diverging(m) for m in models.values()], index=models.keys())\n",
    "has_divergences = divergences.gt(0)\n",
    "\n",
    "print('Diverging states:')\n",
    "display(divergences[has_divergences])\n",
    "\n",
    "# Rerun states with divergences\n",
    "for state, n_divergences in divergences[has_divergences].items():\n",
    "    models[state].run()"
   ]
  },
  {
   "cell_type": "markdown",
   "metadata": {},
   "source": [
    "## Compile Results"
   ]
  },
  {
   "cell_type": "code",
   "execution_count": 25,
   "metadata": {},
   "outputs": [],
   "source": [
    "results = None\n",
    "\n",
    "for state, model in models.items():\n",
    "\n",
    "    df = df_from_model(model)\n",
    "\n",
    "    if results is None:\n",
    "        results = df\n",
    "    else:\n",
    "        results = pd.concat([results, df], axis=0)"
   ]
  },
  {
   "cell_type": "markdown",
   "metadata": {},
   "source": [
    "### Render to CSV\n",
    "Uncomment if you'd like"
   ]
  },
  {
   "cell_type": "code",
   "execution_count": 26,
   "metadata": {},
   "outputs": [],
   "source": [
    "results.to_csv('/Users/---/rt_fukuoka.csv')"
   ]
  },
  {
   "cell_type": "markdown",
   "metadata": {},
   "source": [
    "### Render Charts"
   ]
  },
  {
   "cell_type": "code",
   "execution_count": 27,
   "metadata": {},
   "outputs": [],
   "source": [
    "def plot_rt(name, result, ax, c=(.3,.3,.3,1), ci=(0,0,0,.05)):\n",
    "    ax.set_ylim(0, 2.5)\n",
    "    ax.set_title(name)\n",
    "    ax.plot(result['mean'],\n",
    "            marker='o',\n",
    "            markersize=4,\n",
    "            markerfacecolor='w',\n",
    "            lw=1,\n",
    "            c=c,\n",
    "            markevery=2)\n",
    "    ax.fill_between(\n",
    "        result.index,\n",
    "        result['lower_50'].values,\n",
    "        result['upper_50'].values,\n",
    "        color='mistyrose',\n",
    "        lw=0)\n",
    "    ax.fill_between(\n",
    "        result.index,\n",
    "        result['lower_50'].values,\n",
    "        result['lower_90'].values,\n",
    "        color='seashell',\n",
    "        lw=0)\n",
    "    ax.fill_between(\n",
    "        result.index,\n",
    "        result['upper_50'].values,\n",
    "        result['upper_90'].values,\n",
    "        color='seashell',\n",
    "        lw=0)\n",
    "    ax.axhline(1.0, linestyle=':', lw=1)\n",
    "    \n",
    "    ax.xaxis.set_major_formatter(mdates.DateFormatter('%m/%d'))\n",
    "    ax.xaxis.set_major_locator(mdates.WeekdayLocator(interval=2))"
   ]
  },
  {
   "cell_type": "code",
   "execution_count": 28,
   "metadata": {},
   "outputs": [
    {
     "data": {
      "image/png": "[encoded data removed]",
      "text/plain": [
       "<Figure size 1008x216 with 2 Axes>"
      ]
     },
     "metadata": {},
     "output_type": "display_data"
    }
   ],
   "source": [
    "ncols = 2\n",
    "nrows = int(np.ceil(results.index.levels[0].shape[0] / ncols))\n",
    "\n",
    "fig, axes = plt.subplots(\n",
    "    nrows=nrows,\n",
    "    ncols=ncols,\n",
    "    figsize=(14, nrows*3),\n",
    "    sharey='row')\n",
    "\n",
    "for ax, (state, result) in zip(axes.flat, results.groupby('region')):\n",
    "    plot_rt(state, result.droplevel(0), ax)\n",
    "\n",
    "fig.tight_layout()\n",
    "fig.set_facecolor('w')"
   ]
  },
  {
   "cell_type": "code",
   "execution_count": 29,
   "metadata": {},
   "outputs": [],
   "source": [
    "# url = 'https://raw.githubusercontent.com/jasonong/List-of-US-States/master/states.csv'\n",
    "# abbrev = pd.read_csv(url, index_col=['State'], squeeze=True)\n",
    "\n",
    "# jhu_url = 'https://raw.githubusercontent.com/CSSEGISandData/COVID-19/master/csse_covid_19_data/csse_covid_19_time_series/time_series_covid19_confirmed_US.csv'\n",
    "# jhu = pd.read_csv(jhu_url)\n",
    "\n",
    "# jhu = jhu.drop(columns=['UID', 'iso2', 'iso3', 'code3', 'FIPS', 'Admin2', 'Country_Region', 'Lat', 'Long_', 'Combined_Key'])\n",
    "# jhu = jhu.set_index('Province_State')\n",
    "# jhu.index = jhu.index.rename('region')\n",
    "# jhu = jhu.drop([\n",
    "#     'American Samoa',\n",
    "#     'Guam',\n",
    "#     'Northern Mariana Islands',\n",
    "#     'Puerto Rico',\n",
    "#     'Virgin Islands',\n",
    "#     'Diamond Princess',\n",
    "#     'Grand Princess'])\n",
    "\n",
    "# jhu.index = pd.Index(jhu.index.to_series().replace(abbrev).values, name='region')\n",
    "# jhu.columns = pd.to_datetime(jhu.columns)\n",
    "# jhu = jhu.groupby('region').sum()\n",
    "# jhu = jhu.stack().sort_index()\n",
    "\n",
    "# state = 'VT'\n",
    "# ax = jhu.xs(state).diff().plot(label='JHU', color='k', legend=True, title=state)\n",
    "# # jhu.xs('AK').diff().rolling(7).mean().plot(ax=ax)\n",
    "# states.xs(state).positive.diff().plot(ax=ax, figsize=(6,4), linestyle=':', label='Covidtracking', legend=True)\n",
    "# ax.set_xlim(pd.Timestamp('2020-03-01'),None)"
   ]
  },
  {
   "cell_type": "code",
   "execution_count": 30,
   "metadata": {},
   "outputs": [],
   "source": [
    "# url = 'https://raw.githubusercontent.com/epiforecasts/covid-regional/3ad63ea1acceb797f0628a8037fc206342d267e7/united-states/regional-summary/rt.csv'\n",
    "\n",
    "# epf = pd.read_csv(url, parse_dates=['date'])\n",
    "# epf.region = epf.region.replace(abbrev)\n",
    "# epf = epf.set_index(['region', 'date']).sort_index()\n",
    "# epf = epf.drop(['Guam', 'Puerto Rico'])\n",
    "\n",
    "# epf_lookup = {}\n",
    "# for idx, grp in epf.groupby('region'):\n",
    "\n",
    "#     epf_lookup[idx]=grp\n",
    "#     epf_grp = epf_lookup[state]\n",
    "    \n",
    "#     plot_rt(state, result.droplevel(0), ax)\n",
    "#     plot_rt(state, epf_grp.droplevel(0), ax, c=(1,0,0,1))"
   ]
  }
 ],
 "metadata": {
  "kernelspec": {
   "display_name": "Python 3",
   "language": "python",
   "name": "python3"
  },
  "language_info": {
   "codemirror_mode": {
    "name": "ipython",
    "version": 3
   },
   "file_extension": ".py",
   "mimetype": "text/x-python",
   "name": "python",
   "nbconvert_exporter": "python",
   "pygments_lexer": "ipython3",
   "version": "3.7.3"
  }
 },
 "nbformat": 4,
 "nbformat_minor": 4
}
