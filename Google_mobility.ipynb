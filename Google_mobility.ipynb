{
 "cells": [
  {
   "cell_type": "code",
   "execution_count": null,
   "metadata": {},
   "outputs": [],
   "source": [
    "import pandas as pd\n",
    "\n",
    "url = 'https://www.gstatic.com/covid19/mobility/Global_Mobility_Report.csv?cachebust=cf3bfcad6ccbca1e'\n",
    "df = pd.read_csv(url)\n",
    "df"
   ]
  },
  {
   "cell_type": "code",
   "execution_count": null,
   "metadata": {},
   "outputs": [],
   "source": [
    "df1 = df.query('country_region_code == \"US\"')#.query('sub_region_1==isnull()')#.query('sub_region_1==\"CA\"')\n",
    "df1 = df1[df1['sub_region_2'].isnull()].dropna(subset=['sub_region_1'])\n",
    "df1 = df1.set_index(['sub_region_1','date']).iloc[:,5:11]\n",
    "df1.columns = ['retail','grocery','parks','stations','workplaces','home']\n",
    "df1"
   ]
  },
  {
   "cell_type": "code",
   "execution_count": null,
   "metadata": {},
   "outputs": [],
   "source": [
    "state_pos = {'AK':(0,0),'WA':(1,0),'OR':(2,0),'CA':(3,0),'HI':(6,0),\n",
    "            'ID':(1,1),'NV':(2,1),'UT':(3,1),'AZ':(4,1),\n",
    "           'MT':(1,2),'WY':(2,2),'CO':(3,2),'NM':(4,2),\n",
    "           'ND':(1,3),'SD':(2,3),'NE':(3,3),'KS':(4,3),'OK':(5,3),'TX':(6,3),\n",
    "           'MN':(1,4),'IA':(2,4),'MO':(3,4),'AR':(4,4),'LA':(5,4),\n",
    "           'WI':(0,5),'IL':(1,5),'IN':(2,5),'KY':(3,5),'TN':(4,5),'MS':(5,5),\n",
    "           'MI':(1,6),'OH':(2,6),'WV':(3,6),'NC':(4,6),'AL':(5,6),\n",
    "           'PA':(2,7),'VA':(3,7),'SC':(4,7),'GA':(5,7),\n",
    "           'VT':(0,8),'NY':(1,8),'NJ':(2,8),'MD':(3,8),'DC':(4,8),'FL':(6,8),\n",
    "           'NH':(0,9),'MA':(1,9),'CT':(2,9),'DE':(3,9),\n",
    "           'ME':(0,10),'RI':(2,10)}\n",
    "\n",
    "state_dic = {'Alaska':'AK','Alabama':'AL','Arkansas':'AR','Arizona':'AZ','California':'CA',\n",
    "             'Colorado':'CO','Connecticut':'CT','District of Columbia':'DC','Delaware':'DE',\n",
    "             'Florida':'FL','Georgia':'GA','Hawaii':'HI','Iowa':'IA','Idaho':'ID',\n",
    "             'Illinois':'IL','Indiana':'IN','Kansas':'KS','Kentucky':'KY','Louisiana':'LA',\n",
    "             'Massachusetts':'MA','Maryland':'MD','Maine':'ME','Michigan':'MI','Minnesota':'MN',\n",
    "             'Missouri':'MO','Mississippi':'MS','Montana':'MT','North Carolina':'NC','North Dakota':'ND',\n",
    "             'Nebraska':'NE','New Hampshire':'NH','New Jersey':'NJ','New Mexico':'NM',\n",
    "             'Nevada':'NV','New York':'NY','Ohio':'OH','Oklahoma':'OK','Oregon':'OR',\n",
    "             'Pennsylvania':'PA','Rhode Island':'RI','South Carolina':'SC',\n",
    "             'South Dakota':'SD','Tennessee':'TN','Texas':'TX','Utah':'UT','Virginia':'VA','Vermont':'VT',\n",
    "             'Washington':'WA','Wisconsin':'WI','West Virginia':'WV','Wyoming':'WY'}\n",
    "\n",
    "brank_pos = [(0,1),(0,2),(0,3),(0,4),(0,6),(0,7),\n",
    "            (1,7),(1,10),(3,10),\n",
    "            (4,0),(4,9),(4,10),\n",
    "            (5,0),(5,1),(5,2),(5,8),(5,9),(5,10),\n",
    "            (6,1),(6,2),(6,4),(6,5),(6,6),(6,7),(6,9),(6,10)]\n",
    "\n",
    "import numpy as np\n",
    "\n",
    "#temp = df1.loc[['New York',],'workplaces']\n",
    "\n",
    "df_blank = pd.DataFrame(np.ones(temp.shape[0]),columns=['Dummy'])\n",
    "df_blank"
   ]
  },
  {
   "cell_type": "code",
   "execution_count": null,
   "metadata": {},
   "outputs": [],
   "source": [
    "import matplotlib as mpl\n",
    "import matplotlib.pyplot as plt\n",
    "import sys\n",
    "\n",
    "fig, axes = plt.subplots(nrows=7, ncols=11, figsize=(20, 10),\n",
    "                         gridspec_kw=dict(wspace=0.6, hspace=0.5),\n",
    "                        sharex='col',sharey='all')\n",
    "\n",
    "#dfx = pd.DataFrame(df1.values,columns=df1.columns)\n",
    "\n",
    "nn = df1.loc['Alabama'].shape[0]\n",
    "idx = list(range(nn))\n",
    "\n",
    "cmap = plt.get_cmap('Blues')\n",
    "\n",
    "for i in range(len(state_dic.keys())):\n",
    "    s = list(state_dic.keys())[i]\n",
    "    x,y = state_pos[state_dic[s]]\n",
    "    data = df1.loc[s].loc[:,'workplaces'].rolling(7).mean()\n",
    "    data.index = idx\n",
    "    data.iloc[-60:].plot(ax=axes[x,y],legend=False,title=state_dic[s],color='white')#.set_axis_off()\n",
    "\n",
    "    n = 1 + data.iloc[nn-1]/100*2\n",
    "    if n > 1:\n",
    "        n = 1\n",
    "    elif n < 0:\n",
    "        n = 0\n",
    "    axes[x,y].set_facecolor(cmap(n))\n",
    "\n",
    "for i in range(len(brank_pos)):\n",
    "    x,y = brank_pos[i]\n",
    "    df_blank.iloc[-60:].plot(ax=axes[x,y],legend=False,color='white').set_axis_off()\n",
    "\n",
    "fig.show()\n",
    "\n",
    "\n",
    "#df1.loc[['New York',],'workplaces'].rolling(7).mean().plot()"
   ]
  },
  {
   "cell_type": "code",
   "execution_count": null,
   "metadata": {},
   "outputs": [],
   "source": [
    "fig.savefig('/Users/---/mobility_map.png')"
   ]
  },
  {
   "cell_type": "code",
   "execution_count": null,
   "metadata": {},
   "outputs": [],
   "source": [
    "df1.loc['Alabama']"
   ]
  },
  {
   "cell_type": "code",
   "execution_count": null,
   "metadata": {},
   "outputs": [],
   "source": []
  }
 ],
 "metadata": {
  "kernelspec": {
   "display_name": "Python 3",
   "language": "python",
   "name": "python3"
  },
  "language_info": {
   "codemirror_mode": {
    "name": "ipython",
    "version": 3
   },
   "file_extension": ".py",
   "mimetype": "text/x-python",
   "name": "python",
   "nbconvert_exporter": "python",
   "pygments_lexer": "ipython3",
   "version": "3.7.3"
  }
 },
 "nbformat": 4,
 "nbformat_minor": 4
}
